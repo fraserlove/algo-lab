{
 "cells": [
  {
   "cell_type": "code",
   "execution_count": 1,
   "metadata": {},
   "outputs": [],
   "source": [
    "import torch\n",
    "import random\n",
    "\n",
    "# The MLP implemented in this notebook is based on the design from\n",
    "# the paper 'A Neural Probabilistic Language Model' (Bengio et al. 2003)\n",
    "# https://www.jmlr.org/papers/volume3/bengio03a/bengio03a.pdf"
   ]
  },
  {
   "cell_type": "code",
   "execution_count": 2,
   "metadata": {},
   "outputs": [],
   "source": [
    "words = open('names.txt', 'r').read().splitlines()\n",
    "\n",
    "chars = ['.'] + sorted(list(set(''.join(words))))\n",
    "stoi = {s:i for i, s in enumerate(chars)}\n",
    "itos = {i:s for i, s in enumerate(chars)}\n",
    "num_chars = len(chars)"
   ]
  },
  {
   "cell_type": "code",
   "execution_count": 3,
   "metadata": {},
   "outputs": [
    {
     "name": "stdout",
     "output_type": "stream",
     "text": [
      "Number of parameters: 11897\n"
     ]
    }
   ],
   "source": [
    "# Hyperparameters\n",
    "block_size = 3 # Context length (characters).\n",
    "embedding_dims = 10 # Number of dimensions for the embedding space.\n",
    "batch_size = 32 # Number of examples to process at a time in training.\n",
    "hidden_layer_size = 200 # Number of neurons in the hidden layer.\n",
    "init_lr = 0.1 # Initial learning rate.\n",
    "final_lr = 0.01 # Final learning rate.\n",
    "max_steps = 100000\n",
    "\n",
    "def build_dataset(words: list[str]) -> (torch.Tensor, torch.Tensor):\n",
    "\n",
    "    X, Y = [], []\n",
    "\n",
    "    for word in words:\n",
    "        context = [0] * block_size # Padding the context with initial '.' characters.\n",
    "        for char in word + '.':\n",
    "            idx = stoi[char]\n",
    "            X.append(context)\n",
    "            Y.append(idx)\n",
    "            context = context[1:] + [idx] # Update context.\n",
    "\n",
    "    return torch.tensor(X), torch.tensor(Y)\n",
    "\n",
    "random.shuffle(words)\n",
    "n1 = int(0.8 * len(words))\n",
    "n2 = int(0.9 * len(words))\n",
    "\n",
    "x_train, y_train = build_dataset(words[:n1])\n",
    "x_val, y_val = build_dataset(words[n1:n2])\n",
    "x_test, y_test = build_dataset(words[n2:])\n",
    "\n",
    "# Embed all characters into a two dimensional space.\n",
    "C = torch.randn((num_chars, embedding_dims), requires_grad=True)\n",
    "# Hidden layer.\n",
    "W1 = torch.randn((block_size * embedding_dims, hidden_layer_size), requires_grad=True)\n",
    "b1 = torch.randn(hidden_layer_size, requires_grad=True)\n",
    "# Output layer.\n",
    "W2 = torch.randn((hidden_layer_size, num_chars), requires_grad=True)\n",
    "b2 = torch.randn(num_chars, requires_grad=True)\n",
    "params = [C, W1, b1, W2, b2]\n",
    "\n",
    "print(f'Number of parameters: {sum(param.nelement() for param in params)}')"
   ]
  },
  {
   "cell_type": "code",
   "execution_count": 4,
   "metadata": {},
   "outputs": [],
   "source": [
    "# Gradient descent.\n",
    "for i in range(max_steps):\n",
    "\n",
    "    # Constructing batches.\n",
    "    idx = torch.randint(0, x_train.shape[0], (batch_size, ))\n",
    "\n",
    "    # Forward pass.\n",
    "    embedding = C[x_train[idx]]\n",
    "    h = torch.tanh(embedding.view(embedding.size(0), block_size * embedding_dims) @ W1 + b1)\n",
    "    logits = h @ W2 + b2\n",
    "    # Calculate the cross entropy loss.\n",
    "    loss = torch.nn.functional.cross_entropy(logits, y_train[idx])\n",
    "\n",
    "    # Backward pass.\n",
    "    for param in params:\n",
    "        param.grad = None # Set the gradient to zero.\n",
    "    loss.backward()\n",
    "\n",
    "    # Stochastic gradient descent update.\n",
    "    lr = init_lr if i < (max_steps / 2) else final_lr\n",
    "    for param in params:\n",
    "        param.data -= lr * param.grad"
   ]
  },
  {
   "cell_type": "code",
   "execution_count": 5,
   "metadata": {},
   "outputs": [
    {
     "name": "stdout",
     "output_type": "stream",
     "text": [
      "tensor(2.1997, grad_fn=<NllLossBackward0>)\n"
     ]
    }
   ],
   "source": [
    "# Evaluation on the training set.\n",
    "embedding = C[x_train]\n",
    "h = torch.tanh(embedding.view(embedding.size(0), block_size * embedding_dims) @ W1 + b1)\n",
    "logits = h @ W2 + b2\n",
    "loss = torch.nn.functional.cross_entropy(logits, y_train)\n",
    "print(loss)"
   ]
  },
  {
   "cell_type": "code",
   "execution_count": 6,
   "metadata": {},
   "outputs": [
    {
     "name": "stdout",
     "output_type": "stream",
     "text": [
      "tensor(2.2411, grad_fn=<NllLossBackward0>)\n"
     ]
    }
   ],
   "source": [
    "# Evaluation of the validation set.\n",
    "embedding = C[x_val]\n",
    "h = torch.tanh(embedding.view(embedding.size(0), block_size * embedding_dims) @ W1 + b1)\n",
    "logits = h @ W2 + b2\n",
    "loss = torch.nn.functional.cross_entropy(logits, y_val)\n",
    "print(loss)"
   ]
  },
  {
   "cell_type": "code",
   "execution_count": 7,
   "metadata": {},
   "outputs": [
    {
     "name": "stdout",
     "output_type": "stream",
     "text": [
      "grariustlyn.\n",
      "kaylyn.\n",
      "ilyn.\n",
      "aryai.\n",
      "fia.\n"
     ]
    }
   ],
   "source": [
    "# Sample from the model.\n",
    "for _ in range(5):\n",
    "    out = []\n",
    "    context = [0] * block_size\n",
    "\n",
    "    while True:\n",
    "        # Forward pass.\n",
    "        embedding = C[torch.tensor([context])]\n",
    "        h = torch.tanh(embedding.view(embedding.size(0), block_size * embedding_dims) @ W1 + b1)\n",
    "        logits = h @ W2 + b2\n",
    "        probs = torch.nn.functional.softmax(logits, dim=1)\n",
    "\n",
    "        # Sample from the distribution.\n",
    "        idx = torch.multinomial(probs, num_samples=1, replacement=True).item()\n",
    "        context = context[1:] + [idx]\n",
    "        out.append(itos[idx])\n",
    "        if idx == 0:\n",
    "            break\n",
    "    print(''.join(out))"
   ]
  }
 ],
 "metadata": {
  "kernelspec": {
   "display_name": ".venv",
   "language": "python",
   "name": "python3"
  },
  "language_info": {
   "codemirror_mode": {
    "name": "ipython",
    "version": 3
   },
   "file_extension": ".py",
   "mimetype": "text/x-python",
   "name": "python",
   "nbconvert_exporter": "python",
   "pygments_lexer": "ipython3",
   "version": "3.11.4"
  },
  "orig_nbformat": 4
 },
 "nbformat": 4,
 "nbformat_minor": 2
}
