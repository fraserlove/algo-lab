{
 "cells": [
  {
   "cell_type": "code",
   "execution_count": null,
   "metadata": {},
   "outputs": [],
   "source": [
    "import torch\n",
    "import matplotlib.pyplot as plt"
   ]
  },
  {
   "cell_type": "code",
   "execution_count": null,
   "metadata": {},
   "outputs": [],
   "source": [
    "words = open('names.txt', 'r').read().splitlines()\n",
    "\n",
    "chars = ['.'] + sorted(list(set(''.join(words))))\n",
    "stoi = {s:i for i, s in enumerate(chars)}\n",
    "itos = {i:s for i, s in enumerate(chars)}\n",
    "\n",
    "# Bigram counts.\n",
    "B = torch.zeros((len(chars), len(chars)), dtype=torch.int32)\n",
    "for word in words:\n",
    "    chars = ['.'] + list(word) + ['.']\n",
    "    for char1, char2 in zip(chars, chars[1:]):\n",
    "        B[stoi[char1], stoi[char2]] += 1"
   ]
  },
  {
   "cell_type": "code",
   "execution_count": null,
   "metadata": {},
   "outputs": [],
   "source": [
    "# Visualising the bigram tensor.\n",
    "plt.figure(figsize=(16,16))\n",
    "plt.imshow(B, cmap='Blues')\n",
    "for i in range(B.size(0)):\n",
    "    for j in range(B.size(1)):\n",
    "        plt.text(j, i, itos[i] + itos[j], ha='center', va='bottom', color='gray')\n",
    "        plt.text(j, i, B[i, j].item(), ha='center', va='top', color='gray')\n",
    "plt.axis('off')"
   ]
  },
  {
   "cell_type": "code",
   "execution_count": null,
   "metadata": {},
   "outputs": [],
   "source": [
    "# Add model smoothing by adding 1 to each bigram. This removes posibility of an average negative log likelihood of inf.\n",
    "P = (B + 1) / B.sum(1, keepdim=True)\n",
    "\n",
    "# Sample from the model.\n",
    "out = []\n",
    "idx = 0\n",
    "while True:\n",
    "    idx = torch.multinomial(P[idx], num_samples=1, replacement=True).item()\n",
    "    out.append(itos[idx])\n",
    "    if idx == 0:\n",
    "        break\n",
    "print(''.join(out))"
   ]
  },
  {
   "cell_type": "code",
   "execution_count": null,
   "metadata": {},
   "outputs": [],
   "source": [
    "# Loss function. Average negative log likelihood.\n",
    "log_likelihood = 0\n",
    "n = 0\n",
    "for word in ['fraser', 'love']:\n",
    "    chars = ['.'] + list(word) + ['.']\n",
    "    for char1, char2 in zip(chars, chars[1:]):\n",
    "        prob = P[stoi[char1], stoi[char2]]\n",
    "        log_likelihood += torch.log(prob)\n",
    "        n += 1\n",
    "        print(f'{char1}{char2}: {prob:.4f}')\n",
    "        \n",
    "print(f'Loss: {-log_likelihood / n}')"
   ]
  }
 ],
 "metadata": {
  "kernelspec": {
   "display_name": ".venv",
   "language": "python",
   "name": "python3"
  },
  "language_info": {
   "codemirror_mode": {
    "name": "ipython",
    "version": 3
   },
   "file_extension": ".py",
   "mimetype": "text/x-python",
   "name": "python",
   "nbconvert_exporter": "python",
   "pygments_lexer": "ipython3",
   "version": "3.11.4"
  },
  "orig_nbformat": 4
 },
 "nbformat": 4,
 "nbformat_minor": 2
}
