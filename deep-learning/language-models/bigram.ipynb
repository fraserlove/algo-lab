{
 "cells": [
  {
   "cell_type": "code",
   "execution_count": null,
   "metadata": {},
   "outputs": [],
   "source": [
    "import torch\n",
    "import matplotlib.pyplot as plt"
   ]
  },
  {
   "cell_type": "code",
   "execution_count": null,
   "metadata": {},
   "outputs": [],
   "source": [
    "words = open('data/names.txt', 'r').read().splitlines()\n",
    "\n",
    "chars = ['.'] + sorted(list(set(''.join(words))))\n",
    "stoi = {s:i for i, s in enumerate(chars)}\n",
    "itos = {i:s for i, s in enumerate(chars)}\n",
    "num_chars = len(chars)"
   ]
  },
  {
   "cell_type": "markdown",
   "metadata": {},
   "source": [
    "### Bigram Count Approach"
   ]
  },
  {
   "cell_type": "code",
   "execution_count": null,
   "metadata": {},
   "outputs": [],
   "source": [
    "# Bigram counts.\n",
    "B = torch.zeros((num_chars, num_chars), dtype=torch.int32)\n",
    "for word in words:\n",
    "    chars = ['.'] + list(word) + ['.']\n",
    "    for char1, char2 in zip(chars, chars[1:]):\n",
    "        B[stoi[char1], stoi[char2]] += 1"
   ]
  },
  {
   "cell_type": "code",
   "execution_count": null,
   "metadata": {},
   "outputs": [],
   "source": [
    "# Visualising the bigram tensor.\n",
    "plt.figure(figsize=(16,16))\n",
    "plt.imshow(B, cmap='Blues')\n",
    "for i in range(B.size(0)):\n",
    "    for j in range(B.size(1)):\n",
    "        plt.text(j, i, itos[i] + itos[j], ha='center', va='bottom', color='gray')\n",
    "        plt.text(j, i, B[i, j].item(), ha='center', va='top', color='gray')\n",
    "plt.axis('off')"
   ]
  },
  {
   "cell_type": "code",
   "execution_count": null,
   "metadata": {},
   "outputs": [],
   "source": [
    "# Calculate the probabilities of the next character in the bigram. Summing and normalising across each row.\n",
    "# Add model smoothing by adding 1 to each bigram. This removes posibility of an average negative log likelihood of inf.\n",
    "P = (B + 1) / B.sum(1, keepdim=True)\n",
    "\n",
    "# Loss function. Average negative log likelihood.\n",
    "log_likelihood = 0\n",
    "n = 0\n",
    "for word in words:\n",
    "    chars = ['.'] + list(word) + ['.']\n",
    "    for char1, char2 in zip(chars, chars[1:]):\n",
    "        prob = P[stoi[char1], stoi[char2]]\n",
    "        log_likelihood += torch.log(prob)\n",
    "        n += 1\n",
    "        \n",
    "print(f'Loss: {-log_likelihood / n}')"
   ]
  },
  {
   "cell_type": "code",
   "execution_count": null,
   "metadata": {},
   "outputs": [],
   "source": [
    "gen = torch.Generator().manual_seed(1)\n",
    "\n",
    "# Sample from the model.\n",
    "for _ in range(5):\n",
    "    out = []\n",
    "    idx = 0\n",
    "    while True:\n",
    "        # Sample from the distribution.\n",
    "        idx = torch.multinomial(P[idx], num_samples=1, replacement=True, generator=gen).item()\n",
    "        out.append(itos[idx])\n",
    "        if idx == 0:\n",
    "            break\n",
    "    print(''.join(out))"
   ]
  },
  {
   "cell_type": "markdown",
   "metadata": {},
   "source": [
    "### Gradient Based Apprach"
   ]
  },
  {
   "cell_type": "code",
   "execution_count": null,
   "metadata": {},
   "outputs": [],
   "source": [
    "# Create the training set of bigrams (x, y).\n",
    "xs, ys = [], []\n",
    "\n",
    "for word in words:\n",
    "    chars = ['.'] + list(word) + ['.']\n",
    "    for char1, char2 in zip(chars, chars[1:]):\n",
    "        xs.append(stoi[char1])\n",
    "        ys.append(stoi[char2])\n",
    "\n",
    "xs = torch.tensor(xs)\n",
    "ys = torch.tensor(ys)\n",
    "\n",
    "# Input to network. One-hot encoding.\n",
    "xs_encoded = torch.nn.functional.one_hot(xs, num_classes=num_chars).float()\n",
    "\n",
    "# Randomly initialise neurons' weights. Network only has a two layers.\n",
    "W = torch.randn(num_chars, num_chars, requires_grad=True)\n",
    "\n",
    "# Gradient descent.\n",
    "for _ in range(100):\n",
    "\n",
    "    # Forward pass.\n",
    "    logits = xs_encoded @ W\n",
    "    # Perform softmax.\n",
    "    counts = logits.exp()\n",
    "    probs = counts / counts.sum(1, keepdims=True) \n",
    "\n",
    "    # Calculate cross entropy loss. Added model smoothing with regularisation loss.\n",
    "    reg_strength = 0.01\n",
    "    loss = -probs[torch.arange(len(ys)), ys].log().mean() + reg_strength * (W**2).mean()\n",
    "\n",
    "    # Backward pass.\n",
    "    W.grad = None # Set the gradient to zero.\n",
    "    loss.backward()\n",
    "\n",
    "    # Stochastic gradient descent update.\n",
    "    learning_rate = 50\n",
    "    W.data -= learning_rate * W.grad\n",
    "\n",
    "print(f'Loss: {loss.data}')"
   ]
  },
  {
   "cell_type": "code",
   "execution_count": null,
   "metadata": {},
   "outputs": [],
   "source": [
    "gen = torch.Generator().manual_seed(1)\n",
    "\n",
    "# Sample from the model.\n",
    "for _ in range(5):\n",
    "    out = []\n",
    "    idx = 0\n",
    "\n",
    "    while True:\n",
    "        # Forward pass.\n",
    "        logits = W[idx].view(1, -1)\n",
    "        # Perform softmax.\n",
    "        counts = logits.exp()\n",
    "        probs = counts / counts.sum(1, keepdims=True) \n",
    "        \n",
    "        # Sample from the distribution.\n",
    "        idx = torch.multinomial(probs, num_samples=1, replacement=True, generator=gen).item()\n",
    "        out.append(itos[idx])\n",
    "        if idx == 0:\n",
    "            break\n",
    "    print(''.join(out))"
   ]
  }
 ],
 "metadata": {
  "kernelspec": {
   "display_name": ".venv",
   "language": "python",
   "name": "python3"
  },
  "language_info": {
   "codemirror_mode": {
    "name": "ipython",
    "version": 3
   },
   "file_extension": ".py",
   "mimetype": "text/x-python",
   "name": "python",
   "nbconvert_exporter": "python",
   "pygments_lexer": "ipython3",
   "version": "3.11.4"
  },
  "orig_nbformat": 4
 },
 "nbformat": 4,
 "nbformat_minor": 2
}
