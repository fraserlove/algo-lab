{
 "cells": [
  {
   "cell_type": "code",
   "execution_count": null,
   "metadata": {},
   "outputs": [],
   "source": [
    "from network.value import Value\n",
    "from network.network import MLP\n",
    "from network.graph import draw_graph"
   ]
  },
  {
   "cell_type": "markdown",
   "metadata": {},
   "source": [
    "### Manual Backpropagation on an Expression"
   ]
  },
  {
   "cell_type": "code",
   "execution_count": null,
   "metadata": {},
   "outputs": [],
   "source": [
    "a = Value(2.0, label='a')\n",
    "b = Value(-3.0, label='b')\n",
    "c = Value(10.0, label='c')\n",
    "f = Value(-2.0, label='f')\n",
    "e = a * b\n",
    "e.label = 'e'\n",
    "d = e + c\n",
    "d.label = 'd'\n",
    "L = d * f\n",
    "L.label = 'L'\n"
   ]
  },
  {
   "cell_type": "code",
   "execution_count": null,
   "metadata": {},
   "outputs": [],
   "source": [
    "# Backpropagation\n",
    "L.grad = 1\n",
    "\n",
    "d.grad = f.data # dL/dd = d/dd(d * f) = f\n",
    "f.grad = d.data # dL/df = d/df(d * f) = d\n",
    "\n",
    "c.grad = d.grad # dL/dc = dL/dd * dd/dc = f * d/dc(e + c) = f * 1 = f\n",
    "e.grad = d.grad # dL/de = dL/dd * dd/de = f * d/de(e + c) = f * 1 = f\n",
    "\n",
    "a.grad = e.grad * b.data # dL/da = dL/de * de/da = f * d/da(a * b) = f * b\n",
    "b.grad =  e.grad * a.data # dL/db = dL/de * de/db = f * d/db(a * b) = f * a"
   ]
  },
  {
   "cell_type": "code",
   "execution_count": null,
   "metadata": {},
   "outputs": [],
   "source": [
    "draw_graph(L)"
   ]
  },
  {
   "cell_type": "code",
   "execution_count": null,
   "metadata": {},
   "outputs": [],
   "source": [
    "# Single optimisation step. Increasing L by moving in the direction of the gradient.\n",
    "a.data += 0.01 * a.grad\n",
    "b.data += 0.01 * b.grad\n",
    "c.data += 0.01 * c.grad\n",
    "f.data += 0.01 * f.grad\n",
    "\n",
    "# Forward pass\n",
    "e = a * b\n",
    "d = e + c\n",
    "L = d * f\n",
    "\n",
    "print(L.data)"
   ]
  },
  {
   "cell_type": "markdown",
   "metadata": {},
   "source": [
    "### Manual Backpropagation on a Neuron"
   ]
  },
  {
   "cell_type": "code",
   "execution_count": null,
   "metadata": {},
   "outputs": [],
   "source": [
    "# Inputs x1, x2\n",
    "x1 = Value(2.0, label='x1')\n",
    "x2 = Value(0.0, label='x2')\n",
    "\n",
    "# Weights w1, w2\n",
    "w1 = Value(-3.0, label='w1')\n",
    "w2 = Value(1.0, label='w2')\n",
    "\n",
    "# Bias of the neuron\n",
    "b = Value(6.8813735870195432, label='b')\n",
    "\n",
    "# n = x1 * w1 + x2 * w2 + b\n",
    "x1w1 = x1 * w1\n",
    "x1w1.label = 'x1 * w1'\n",
    "x2w2 = x2 * w2\n",
    "x2w2.label = 'x2 * w2'\n",
    "x1w1x2w2 = x1w1 + x2w2\n",
    "x1w1x2w2.label = 'x1 * w1 + x2 * w2'\n",
    "n = x1w1x2w2 + b\n",
    "n.label = 'n'\n",
    "o = n.tanh()\n",
    "o.label = 'o'\n"
   ]
  },
  {
   "cell_type": "code",
   "execution_count": null,
   "metadata": {},
   "outputs": [],
   "source": [
    "# Backpropagation\n",
    "o.grad = 1\n",
    "\n",
    "n.grad = 1 - o.data**2 # do/dn = d/dn(tanh(n)) = 1 - tanh(n)**2 = 1 - o**2\n",
    "\n",
    "x1w1x2w2.grad = n.grad # do/dx1w1x2w2 = do/dn * dn/dx1w1x2w2 = do/dn * d/dx1w1x2w2((x1 * w1 + x2 * w2) + b) = do/dn\n",
    "b.grad = n.grad # do/db = do/dn * dn/db = do/dn * d/db((x1 * w1 + x2 * w2) + b) = do/dn\n",
    "\n",
    "x1w1.grad = x1w1x2w2.grad # do/dx1w1 = do/dx1w1x2w2 * dx1w1x2w2/dx1w1 = do/dx1w1x2w2 * d/dx1w1(x1 * w1 + x2 * w2) = do/dx1w1x2w2\n",
    "x2w2.grad = x1w1x2w2.grad # do/dx2w2 = do/dx1w1x2w2 * dx1w1x2w2/dx2w2 = do/dx1w1x2w2 * d/dx2w2(x1 * w1 + x2 * w2) = do/dx1w1x2w2\n",
    "\n",
    "x1.grad = x1w1.grad * w1.data #do/x1 = do/x1w1 * dx1w1/dx1 = do/x1w1 * d/dx1(x1 * w1) = do/x1w1 * w1\n",
    "w1.grad = x1w1.grad * x1.data #do/w1 = do/x1w1 * dx1w1/dw1 = do/x1w1 * d/dw1(x1 * w1) = do/x1w1 * x1\n",
    "x2.grad = x2w2.grad * w2.data #do/x2 = do/x2w2 * dx2w2/dx2 = do/x2w2 * d/dx2(x2 * w2) = do/x2w2 * w2\n",
    "w2.grad = x2w2.grad * x2.data #do/w2 = do/x2w2 * dx2w2/dw2 = do/x2w2 * d/dw2(x2 * w2) = do/x2w2 * x2\n",
    "\n"
   ]
  },
  {
   "cell_type": "code",
   "execution_count": null,
   "metadata": {},
   "outputs": [],
   "source": [
    "draw_graph(o)"
   ]
  },
  {
   "cell_type": "code",
   "execution_count": null,
   "metadata": {},
   "outputs": [],
   "source": [
    "# Single optimisation step. Increasing o by moving in the direction of the gradient.\n",
    "w1.data += 0.01 * w1.grad\n",
    "w2.data += 0.01 * w2.grad\n",
    "b.data += 0.01 * b.grad\n",
    "\n",
    "# Forward pass\n",
    "x1w1 = x1 * w1\n",
    "x2w2 = x2 * w2\n",
    "x1w1x2w2 = x1 * w1 + x2 * w2\n",
    "n = x1w1x2w2 + b\n",
    "o = n.tanh()\n",
    "\n",
    "print(o.data)"
   ]
  },
  {
   "cell_type": "markdown",
   "metadata": {},
   "source": [
    "### Semi-Automatic Backpropagation on a Neuron"
   ]
  },
  {
   "cell_type": "code",
   "execution_count": null,
   "metadata": {},
   "outputs": [],
   "source": [
    "# Inputs x1, x2\n",
    "x1 = Value(2.0, label='x1')\n",
    "x2 = Value(0.0, label='x2')\n",
    "\n",
    "# Weights w1, w2\n",
    "w1 = Value(-3.0, label='w1')\n",
    "w2 = Value(1.0, label='w2')\n",
    "\n",
    "# Bias of the neuron\n",
    "b = Value(6.8813735870195432, label='b')\n",
    "\n",
    "# n = x1 * w1 + x2 * w2 + b\n",
    "x1w1 = x1 * w1\n",
    "x1w1.label = 'x1 * w1'\n",
    "x2w2 = x2 * w2\n",
    "x2w2.label = 'x2 * w2'\n",
    "x1w1x2w2 = x1w1 + x2w2\n",
    "x1w1x2w2.label = 'x1 * w1 + x2 * w2'\n",
    "n = x1w1x2w2 + b\n",
    "n.label = 'n'\n",
    "o = n.tanh()\n",
    "o.label = 'o'\n"
   ]
  },
  {
   "cell_type": "code",
   "execution_count": null,
   "metadata": {},
   "outputs": [],
   "source": [
    "# Backpropagation\n",
    "o.grad = 1\n",
    "o._backward()\n",
    "n._backward()\n",
    "b._backward()\n",
    "x1w1x2w2._backward()\n",
    "x1w1._backward()\n",
    "x2w2._backward()"
   ]
  },
  {
   "cell_type": "code",
   "execution_count": null,
   "metadata": {},
   "outputs": [],
   "source": [
    "draw_graph(o)"
   ]
  },
  {
   "cell_type": "markdown",
   "metadata": {},
   "source": [
    "### Automatic Backpropagation on a Neuron"
   ]
  },
  {
   "cell_type": "code",
   "execution_count": null,
   "metadata": {},
   "outputs": [],
   "source": [
    "# Inputs x1, x2\n",
    "x1 = Value(2.0, label='x1')\n",
    "x2 = Value(0.0, label='x2')\n",
    "\n",
    "# Weights w1, w2\n",
    "w1 = Value(-3.0, label='w1')\n",
    "w2 = Value(1.0, label='w2')\n",
    "\n",
    "# Bias of the neuron\n",
    "b = Value(6.8813735870195432, label='b')\n",
    "\n",
    "# n = x1 * w1 + x2 * w2 + b\n",
    "x1w1 = x1 * w1\n",
    "x1w1.label = 'x1 * w1'\n",
    "x2w2 = x2 * w2\n",
    "x2w2.label = 'x2 * w2'\n",
    "x1w1x2w2 = x1w1 + x2w2\n",
    "x1w1x2w2.label = 'x1 * w1 + x2 * w2'\n",
    "n = x1w1x2w2 + b\n",
    "n.label = 'n'\n",
    "o = n.tanh()\n",
    "o.label = 'o'"
   ]
  },
  {
   "cell_type": "code",
   "execution_count": null,
   "metadata": {},
   "outputs": [],
   "source": [
    "# Backpropagation\n",
    "o.backward()\n",
    "draw_graph(o)"
   ]
  },
  {
   "cell_type": "markdown",
   "metadata": {},
   "source": [
    "### Forward Pass in an MLP"
   ]
  },
  {
   "cell_type": "code",
   "execution_count": null,
   "metadata": {},
   "outputs": [],
   "source": [
    "x = [2, 3, -1] # Input vector\n",
    "n = MLP(3, [4, 4, 1])\n",
    "draw_graph(n(x))"
   ]
  },
  {
   "cell_type": "markdown",
   "metadata": {},
   "source": [
    "### Backpropagation in an MLP"
   ]
  },
  {
   "cell_type": "code",
   "execution_count": null,
   "metadata": {},
   "outputs": [],
   "source": [
    "# Training dataset\n",
    "xs = [\n",
    "    [2.0, 3.0, 1.0],\n",
    "    [3.0, -1.0, 0.5],\n",
    "    [0.5, 1.0, 1.0],\n",
    "    [1.0, 1.0, -1.0]\n",
    "]\n",
    "ys = [1.0, -1.0, 1.0, -1.0] # Desired outputs\n",
    "\n",
    "ypred = [n(x) for x in xs]"
   ]
  },
  {
   "cell_type": "code",
   "execution_count": null,
   "metadata": {},
   "outputs": [],
   "source": [
    "# Loss function - mean squared error.\n",
    "loss = sum((yout - ygt)**2 for ygt, yout in zip(ys, ypred))\n",
    "print(loss)"
   ]
  },
  {
   "cell_type": "code",
   "execution_count": null,
   "metadata": {},
   "outputs": [],
   "source": [
    "loss.backward()\n",
    "# Graph shows four forward passes for each x in xs and then the loss calculation.\n",
    "draw_graph(loss)"
   ]
  },
  {
   "cell_type": "markdown",
   "metadata": {},
   "source": [
    "### Gradient Descent in an MLP"
   ]
  },
  {
   "cell_type": "code",
   "execution_count": null,
   "metadata": {},
   "outputs": [],
   "source": [
    "# Gradient descent\n",
    "for i in range(12):\n",
    "\n",
    "    # Forward pass\n",
    "    ypred = [n(x) for x in xs]\n",
    "\n",
    "    # Calculating loss\n",
    "    loss = sum((yout - ygt)**2 for ygt, yout in zip(ys, ypred))\n",
    "\n",
    "    # Backward pass\n",
    "    n.zero_grad()\n",
    "    loss.backward()\n",
    "\n",
    "    # Stochastic gradient descent update\n",
    "    learning_rate = 0.05\n",
    "    for p in n.parameters():\n",
    "        p.data -= learning_rate * p.grad\n",
    "        \n",
    "    print(f'Step {i}: {loss.data}')"
   ]
  },
  {
   "cell_type": "code",
   "execution_count": null,
   "metadata": {},
   "outputs": [],
   "source": [
    "print(ypred)"
   ]
  }
 ],
 "metadata": {
  "kernelspec": {
   "display_name": ".venv",
   "language": "python",
   "name": "python3"
  },
  "language_info": {
   "codemirror_mode": {
    "name": "ipython",
    "version": 3
   },
   "file_extension": ".py",
   "mimetype": "text/x-python",
   "name": "python",
   "nbconvert_exporter": "python",
   "pygments_lexer": "ipython3",
   "version": "3.11.4"
  },
  "orig_nbformat": 4
 },
 "nbformat": 4,
 "nbformat_minor": 2
}
